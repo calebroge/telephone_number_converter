{
 "cells": [
  {
   "cell_type": "code",
   "execution_count": 3,
   "id": "83e89c05-ef75-4b7b-9cc2-ec6e43fef27a",
   "metadata": {},
   "outputs": [
    {
     "name": "stdin",
     "output_type": "stream",
     "text": [
      "Enter a phone number:  1-800-flowers\n"
     ]
    },
    {
     "name": "stdout",
     "output_type": "stream",
     "text": [
      "the digits are: 1-800-356-9377\n"
     ]
    }
   ],
   "source": [
    "run Program02.py"
   ]
  },
  {
   "cell_type": "code",
   "execution_count": 4,
   "id": "73954abb-72f8-4c9a-8176-7cc53582100f",
   "metadata": {},
   "outputs": [
    {
     "name": "stdin",
     "output_type": "stream",
     "text": [
      "Enter a phone number:  1-800-FLOWERS\n"
     ]
    },
    {
     "name": "stdout",
     "output_type": "stream",
     "text": [
      "The digits are: 1-800-356-9377\n"
     ]
    }
   ],
   "source": [
    "run Program02.py"
   ]
  },
  {
   "cell_type": "code",
   "execution_count": 1,
   "id": "40cce106-9deb-4aad-96aa-a4292fdf5964",
   "metadata": {},
   "outputs": [
    {
     "name": "stdin",
     "output_type": "stream",
     "text": [
      "Enter a phone number:  1-800-38qwert\n"
     ]
    },
    {
     "name": "stdout",
     "output_type": "stream",
     "text": [
      "The digits are: 1-800-387-9378\n"
     ]
    }
   ],
   "source": [
    "run Program02.py"
   ]
  },
  {
   "cell_type": "code",
   "execution_count": null,
   "id": "19e3370b-78b2-475e-bf45-b409e498c512",
   "metadata": {},
   "outputs": [],
   "source": []
  }
 ],
 "metadata": {
  "kernelspec": {
   "display_name": "Python 3 (ipykernel)",
   "language": "python",
   "name": "python3"
  },
  "language_info": {
   "codemirror_mode": {
    "name": "ipython",
    "version": 3
   },
   "file_extension": ".py",
   "mimetype": "text/x-python",
   "name": "python",
   "nbconvert_exporter": "python",
   "pygments_lexer": "ipython3",
   "version": "3.8.11"
  }
 },
 "nbformat": 4,
 "nbformat_minor": 5
}
